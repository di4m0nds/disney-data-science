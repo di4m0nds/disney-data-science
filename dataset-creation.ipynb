{
 "cells": [
  {
   "cell_type": "markdown",
   "metadata": {},
   "source": [
    "### Task #1: Get info box (store in Python dictionary)"
   ]
  },
  {
   "cell_type": "markdown",
   "metadata": {},
   "source": []
  },
  {
   "cell_type": "markdown",
   "metadata": {},
   "source": [
    "#### Import necessary libraries"
   ]
  },
  {
   "cell_type": "code",
   "execution_count": 4,
   "metadata": {},
   "outputs": [],
   "source": [
    "from bs4 import BeautifulSoup as bs\n",
    "import requests"
   ]
  },
  {
   "cell_type": "code",
   "execution_count": 12,
   "metadata": {},
   "outputs": [],
   "source": [
    "r = requests.get('https://en.wikipedia.org/wiki/Inspector_Gadget_(film)')\n",
    "\n",
    "# Convert to a beautiful soup object\n",
    "soup = bs(r.content)\n",
    "\n",
    "# Getting the HTML code\n",
    "contents = soup.prettify()"
   ]
  },
  {
   "cell_type": "code",
   "execution_count": 13,
   "metadata": {},
   "outputs": [],
   "source": [
    "# Finding infobox class to get table info from wiki\n",
    "info_box = soup.find(class_=\"infobox vevent\")\n",
    "info_rows = info_box.find_all('tr')\n",
    "  "
   ]
  },
  {
   "cell_type": "code",
   "execution_count": 17,
   "metadata": {},
   "outputs": [
    {
     "data": {
      "text/plain": [
       "{'title': 'Inspector Gadget',\n",
       " 'Directed by': 'David Kellogg',\n",
       " 'Screenplay by': ['Kerry Ehrin', 'Zak Penn', 'Audrey Wells (uncredited)'],\n",
       " 'Story by': ['Kerry Ehrin', 'Dana Olsen'],\n",
       " 'Based on': 'Inspector Gadget by Bruno Bianchi Jean Chalopin Andy Heyward',\n",
       " 'Produced by': ['Roger Birnbaum', 'Andy Heyward', 'Jordan Kerner'],\n",
       " 'Starring': ['Matthew Broderick',\n",
       "  'Rupert Everett',\n",
       "  'Joely Fisher',\n",
       "  'Michelle Trachtenberg',\n",
       "  'Mike Hagerty',\n",
       "  'Andy Dick',\n",
       "  'Cheri Oteri',\n",
       "  'Dabney Coleman'],\n",
       " 'Cinematography': 'Adam Greenberg',\n",
       " 'Edited by': ['Alan Cody', 'Thom Noble'],\n",
       " 'Music by': 'John Debney',\n",
       " 'Production companies': ['Walt Disney Pictures [1]',\n",
       "  'Caravan Pictures',\n",
       "  'DIC Entertainment',\n",
       "  'Avnet/Kerner Productions',\n",
       "  'Roger Birnbaum Productions'],\n",
       " 'Distributed by': 'Buena Vista Pictures Distribution [1]',\n",
       " 'Release date': ['July 23, 1999 ( 1999-07-23 )'],\n",
       " 'Running time': '78 minutes [2]',\n",
       " 'Country': 'United States',\n",
       " 'Language': 'English',\n",
       " 'Budget': '$75–90 million [3] [4]',\n",
       " 'Box office': '$134.4 million [4]'}"
      ]
     },
     "execution_count": 17,
     "metadata": {},
     "output_type": "execute_result"
    }
   ],
   "source": [
    "def get_content_value(row_data):\n",
    "  if row_data.find('li'):\n",
    "    return [li.get_text(\" \", strip=True).replace('\\xa0', ' ') for li in row_data('li')]\n",
    "  else:\n",
    "    return row_data.get_text(\" \", strip=True).replace('\\xa0', ' ')\n",
    "\n",
    "# Creating a set with data info\n",
    "movie_info = {}\n",
    "for index, row in enumerate(info_rows):\n",
    "  if index == 0:\n",
    "    movie_info['title'] = row.find('th').get_text(\" \", strip=True)\n",
    "  elif index == 1:\n",
    "    continue\n",
    "  else:\n",
    "    content_key = row.find('th').get_text(\" \", strip=True)\n",
    "    content_value = get_content_value(row.find('td'))\n",
    "    movie_info[content_key] = content_value\n",
    "\n",
    "movie_info"
   ]
  },
  {
   "cell_type": "code",
   "execution_count": null,
   "metadata": {},
   "outputs": [],
   "source": []
  }
 ],
 "metadata": {
  "kernelspec": {
   "display_name": "Python 3.10.5 64-bit (windows store)",
   "language": "python",
   "name": "python3"
  },
  "language_info": {
   "codemirror_mode": {
    "name": "ipython",
    "version": 3
   },
   "file_extension": ".py",
   "mimetype": "text/x-python",
   "name": "python",
   "nbconvert_exporter": "python",
   "pygments_lexer": "ipython3",
   "version": "3.10.5"
  },
  "orig_nbformat": 4,
  "vscode": {
   "interpreter": {
    "hash": "bebe65491b71ebeb960873acfd0b38736b9d0543d7a29aac57e35ffa2fb998ce"
   }
  }
 },
 "nbformat": 4,
 "nbformat_minor": 2
}
