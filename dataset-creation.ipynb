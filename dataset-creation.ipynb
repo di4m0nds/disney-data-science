{
 "cells": [
  {
   "cell_type": "markdown",
   "metadata": {},
   "source": [
    "### Task #1: Get info box (store in Python dictionary)"
   ]
  },
  {
   "cell_type": "markdown",
   "metadata": {},
   "source": []
  },
  {
   "cell_type": "markdown",
   "metadata": {},
   "source": [
    "#### Import necessary libraries"
   ]
  },
  {
   "cell_type": "code",
   "execution_count": 4,
   "metadata": {},
   "outputs": [],
   "source": [
    "from bs4 import BeautifulSoup as bs\n",
    "import requests"
   ]
  },
  {
   "cell_type": "code",
   "execution_count": 12,
   "metadata": {},
   "outputs": [],
   "source": [
    "r = requests.get('https://en.wikipedia.org/wiki/Inspector_Gadget_(film)')\n",
    "\n",
    "# Convert to a beautiful soup object\n",
    "soup = bs(r.content)\n",
    "\n",
    "# Getting the HTML code\n",
    "contents = soup.prettify()"
   ]
  },
  {
   "cell_type": "code",
   "execution_count": 13,
   "metadata": {},
   "outputs": [],
   "source": [
    "# Finding infobox class to get table info from wiki\n",
    "info_box = soup.find(class_=\"infobox vevent\")\n",
    "info_rows = info_box.find_all('tr')\n",
    "  "
   ]
  },
  {
   "cell_type": "code",
   "execution_count": 17,
   "metadata": {},
   "outputs": [
    {
     "data": {
      "text/plain": [
       "{'title': 'Inspector Gadget',\n",
       " 'Directed by': 'David Kellogg',\n",
       " 'Screenplay by': ['Kerry Ehrin', 'Zak Penn', 'Audrey Wells (uncredited)'],\n",
       " 'Story by': ['Kerry Ehrin', 'Dana Olsen'],\n",
       " 'Based on': 'Inspector Gadget by Bruno Bianchi Jean Chalopin Andy Heyward',\n",
       " 'Produced by': ['Roger Birnbaum', 'Andy Heyward', 'Jordan Kerner'],\n",
       " 'Starring': ['Matthew Broderick',\n",
       "  'Rupert Everett',\n",
       "  'Joely Fisher',\n",
       "  'Michelle Trachtenberg',\n",
       "  'Mike Hagerty',\n",
       "  'Andy Dick',\n",
       "  'Cheri Oteri',\n",
       "  'Dabney Coleman'],\n",
       " 'Cinematography': 'Adam Greenberg',\n",
       " 'Edited by': ['Alan Cody', 'Thom Noble'],\n",
       " 'Music by': 'John Debney',\n",
       " 'Production companies': ['Walt Disney Pictures [1]',\n",
       "  'Caravan Pictures',\n",
       "  'DIC Entertainment',\n",
       "  'Avnet/Kerner Productions',\n",
       "  'Roger Birnbaum Productions'],\n",
       " 'Distributed by': 'Buena Vista Pictures Distribution [1]',\n",
       " 'Release date': ['July 23, 1999 ( 1999-07-23 )'],\n",
       " 'Running time': '78 minutes [2]',\n",
       " 'Country': 'United States',\n",
       " 'Language': 'English',\n",
       " 'Budget': '$75–90 million [3] [4]',\n",
       " 'Box office': '$134.4 million [4]'}"
      ]
     },
     "execution_count": 17,
     "metadata": {},
     "output_type": "execute_result"
    }
   ],
   "source": [
    "def get_content_value(row_data):\n",
    "  if row_data.find('li'):\n",
    "    return [li.get_text(\" \", strip=True).replace('\\xa0', ' ') for li in row_data('li')]\n",
    "  else:\n",
    "    return row_data.get_text(\" \", strip=True).replace('\\xa0', ' ')\n",
    "\n",
    "# Creating a set with data info\n",
    "movie_info = {}\n",
    "for index, row in enumerate(info_rows):\n",
    "  if index == 0:\n",
    "    movie_info['title'] = row.find('th').get_text(\" \", strip=True)\n",
    "  elif index == 1:\n",
    "    continue\n",
    "  else:\n",
    "    content_key = row.find('th').get_text(\" \", strip=True)\n",
    "    content_value = get_content_value(row.find('td'))\n",
    "    movie_info[content_key] = content_value\n",
    "\n",
    "movie_info"
   ]
  },
  {
   "cell_type": "markdown",
   "metadata": {},
   "source": [
    "### Task #2: Get info box for all movies"
   ]
  },
  {
   "cell_type": "code",
   "execution_count": 18,
   "metadata": {},
   "outputs": [],
   "source": [
    "r = requests.get('https://en.wikipedia.org/wiki/List_of_Walt_Disney_Pictures_films')\n",
    "\n",
    "# Convert to a beautiful soup object\n",
    "soup = bs(r.content)\n",
    "\n",
    "# Getting the HTML code\n",
    "contents = soup.prettify()"
   ]
  },
  {
   "cell_type": "code",
   "execution_count": 31,
   "metadata": {},
   "outputs": [
    {
     "data": {
      "text/plain": [
       "[<i><a href=\"/wiki/Academy_Award_Review_of_Walt_Disney_Cartoons\" title=\"Academy Award Review of Walt Disney Cartoons\">Academy Award Review of Walt Disney Cartoons</a></i>,\n",
       " <i><a href=\"/wiki/Snow_White_and_the_Seven_Dwarfs_(1937_film)\" title=\"Snow White and the Seven Dwarfs (1937 film)\">Snow White and the Seven Dwarfs</a></i>,\n",
       " <i><a href=\"/wiki/Pinocchio_(1940_film)\" title=\"Pinocchio (1940 film)\">Pinocchio</a></i>,\n",
       " <i><a href=\"/wiki/Fantasia_(1940_film)\" title=\"Fantasia (1940 film)\">Fantasia</a></i>,\n",
       " <i><a href=\"/wiki/The_Reluctant_Dragon_(1941_film)\" title=\"The Reluctant Dragon (1941 film)\">The Reluctant Dragon</a></i>,\n",
       " <i><a href=\"/wiki/Dumbo\" title=\"Dumbo\">Dumbo</a></i>,\n",
       " <i><a href=\"/wiki/Bambi\" title=\"Bambi\">Bambi</a></i>,\n",
       " <i><a href=\"/wiki/Saludos_Amigos\" title=\"Saludos Amigos\">Saludos Amigos</a></i>,\n",
       " <i><a href=\"/wiki/Victory_Through_Air_Power_(film)\" title=\"Victory Through Air Power (film)\">Victory Through Air Power</a></i>,\n",
       " <i><a href=\"/wiki/The_Three_Caballeros\" title=\"The Three Caballeros\">The Three Caballeros</a></i>]"
      ]
     },
     "execution_count": 31,
     "metadata": {},
     "output_type": "execute_result"
    }
   ],
   "source": [
    "# Getting movie link\n",
    "movies = soup.select('.wikitable.sortable i')\n",
    "movies[0:10]"
   ]
  },
  {
   "cell_type": "code",
   "execution_count": 32,
   "metadata": {},
   "outputs": [],
   "source": [
    "def get_info_box(url):\n",
    "  r = requests.get(url)\n",
    "\n",
    "  # Convert to a beautiful soup object and getting rows\n",
    "  soup = bs(r.content)\n",
    "  info_box = soup.find(class_=\"infobox vevent\")\n",
    "  info_rows = info_box.find_all('tr')\n",
    "\n",
    "  # Creating a set with data info\n",
    "  movie_info = {}\n",
    "  for index, row in enumerate(info_rows):\n",
    "    if index == 0:\n",
    "      movie_info['title'] = row.find('th').get_text(\" \", strip=True)\n",
    "    elif index == 1:\n",
    "      continue\n",
    "    else:\n",
    "      content_key = row.find('th').get_text(\" \", strip=True)\n",
    "      content_value = get_content_value(row.find('td'))\n",
    "      movie_info[content_key] = content_value\n",
    "\n",
    "  return movie_info"
   ]
  },
  {
   "cell_type": "code",
   "execution_count": 33,
   "metadata": {},
   "outputs": [],
   "source": [
    "base_path = 'https://en.wikipedia.org/'\n",
    "movie_info_list = []\n",
    "for index, movie in enumerate(movies):\n",
    "  if index == 10:\n",
    "    break\n",
    "  try:\n",
    "    relative_path = movie.a['href']\n",
    "    full_path = base_path + relative_path\n",
    "    title = movie.a['title']\n",
    "\n",
    "    movie_info_list.append(get_info_box(full_path))\n",
    "\n",
    "  except Exception as e:\n",
    "    print(f\"[err] {e} >> {movie.get_text()}\")"
   ]
  },
  {
   "cell_type": "code",
   "execution_count": 37,
   "metadata": {},
   "outputs": [
    {
     "data": {
      "text/plain": [
       "10"
      ]
     },
     "execution_count": 37,
     "metadata": {},
     "output_type": "execute_result"
    }
   ],
   "source": [
    "len(movie_info_list)"
   ]
  },
  {
   "cell_type": "markdown",
   "metadata": {},
   "source": [
    "Save/Reload Movie data"
   ]
  },
  {
   "cell_type": "code",
   "execution_count": 41,
   "metadata": {},
   "outputs": [],
   "source": [
    "import json\n",
    "\n",
    "def save_data(title, data):\n",
    "  with open(title, 'w', encoding='utf-8') as f:\n",
    "    json.dump(data, f, ensure_ascii=False, indent=2)"
   ]
  },
  {
   "cell_type": "code",
   "execution_count": 42,
   "metadata": {},
   "outputs": [],
   "source": [
    "def load_data(title):\n",
    "  with open(title, encoding='utf-8') as f:\n",
    "    return json.load(f)"
   ]
  },
  {
   "cell_type": "code",
   "execution_count": 46,
   "metadata": {},
   "outputs": [],
   "source": [
    "save_data('disney_data.json', movie_info_list)"
   ]
  }
 ],
 "metadata": {
  "kernelspec": {
   "display_name": "Python 3.10.5 64-bit (windows store)",
   "language": "python",
   "name": "python3"
  },
  "language_info": {
   "codemirror_mode": {
    "name": "ipython",
    "version": 3
   },
   "file_extension": ".py",
   "mimetype": "text/x-python",
   "name": "python",
   "nbconvert_exporter": "python",
   "pygments_lexer": "ipython3",
   "version": "3.10.5"
  },
  "orig_nbformat": 4,
  "vscode": {
   "interpreter": {
    "hash": "bebe65491b71ebeb960873acfd0b38736b9d0543d7a29aac57e35ffa2fb998ce"
   }
  }
 },
 "nbformat": 4,
 "nbformat_minor": 2
}
